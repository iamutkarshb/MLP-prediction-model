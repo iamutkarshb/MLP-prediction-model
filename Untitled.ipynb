{
 "cells": [
  {
   "cell_type": "code",
   "execution_count": 1,
   "id": "7518d655",
   "metadata": {},
   "outputs": [
    {
     "name": "stderr",
     "output_type": "stream",
     "text": [
      "C:\\ProgramData\\Anaconda3\\lib\\site-packages\\IPython\\core\\interactiveshell.py:3165: DtypeWarning: Columns (4,6,31,33,61,62,63,76,79,90,92,94,96,114,115,121) have mixed types.Specify dtype option on import or set low_memory=False.\n",
      "  has_raised = await self.run_ast_nodes(code_ast.body, cell_name,\n"
     ]
    },
    {
     "data": {
      "text/html": [
       "<div>\n",
       "<style scoped>\n",
       "    .dataframe tbody tr th:only-of-type {\n",
       "        vertical-align: middle;\n",
       "    }\n",
       "\n",
       "    .dataframe tbody tr th {\n",
       "        vertical-align: top;\n",
       "    }\n",
       "\n",
       "    .dataframe thead th {\n",
       "        text-align: right;\n",
       "    }\n",
       "</style>\n",
       "<table border=\"1\" class=\"dataframe\">\n",
       "  <thead>\n",
       "    <tr style=\"text-align: right;\">\n",
       "      <th></th>\n",
       "      <th>eventid</th>\n",
       "      <th>iyear</th>\n",
       "      <th>imonth</th>\n",
       "      <th>iday</th>\n",
       "      <th>approxdate</th>\n",
       "      <th>extended</th>\n",
       "      <th>resolution</th>\n",
       "      <th>country</th>\n",
       "      <th>country_txt</th>\n",
       "      <th>region</th>\n",
       "      <th>...</th>\n",
       "      <th>addnotes</th>\n",
       "      <th>scite1</th>\n",
       "      <th>scite2</th>\n",
       "      <th>scite3</th>\n",
       "      <th>dbsource</th>\n",
       "      <th>INT_LOG</th>\n",
       "      <th>INT_IDEO</th>\n",
       "      <th>INT_MISC</th>\n",
       "      <th>INT_ANY</th>\n",
       "      <th>related</th>\n",
       "    </tr>\n",
       "  </thead>\n",
       "  <tbody>\n",
       "    <tr>\n",
       "      <th>0</th>\n",
       "      <td>197000000001</td>\n",
       "      <td>1970</td>\n",
       "      <td>7</td>\n",
       "      <td>2</td>\n",
       "      <td>NaN</td>\n",
       "      <td>0</td>\n",
       "      <td>NaN</td>\n",
       "      <td>58</td>\n",
       "      <td>Dominican Republic</td>\n",
       "      <td>2</td>\n",
       "      <td>...</td>\n",
       "      <td>NaN</td>\n",
       "      <td>NaN</td>\n",
       "      <td>NaN</td>\n",
       "      <td>NaN</td>\n",
       "      <td>PGIS</td>\n",
       "      <td>0</td>\n",
       "      <td>0</td>\n",
       "      <td>0</td>\n",
       "      <td>0</td>\n",
       "      <td>NaN</td>\n",
       "    </tr>\n",
       "    <tr>\n",
       "      <th>1</th>\n",
       "      <td>197000000002</td>\n",
       "      <td>1970</td>\n",
       "      <td>0</td>\n",
       "      <td>0</td>\n",
       "      <td>NaN</td>\n",
       "      <td>0</td>\n",
       "      <td>NaN</td>\n",
       "      <td>130</td>\n",
       "      <td>Mexico</td>\n",
       "      <td>1</td>\n",
       "      <td>...</td>\n",
       "      <td>NaN</td>\n",
       "      <td>NaN</td>\n",
       "      <td>NaN</td>\n",
       "      <td>NaN</td>\n",
       "      <td>PGIS</td>\n",
       "      <td>0</td>\n",
       "      <td>1</td>\n",
       "      <td>1</td>\n",
       "      <td>1</td>\n",
       "      <td>NaN</td>\n",
       "    </tr>\n",
       "    <tr>\n",
       "      <th>2</th>\n",
       "      <td>197001000001</td>\n",
       "      <td>1970</td>\n",
       "      <td>1</td>\n",
       "      <td>0</td>\n",
       "      <td>NaN</td>\n",
       "      <td>0</td>\n",
       "      <td>NaN</td>\n",
       "      <td>160</td>\n",
       "      <td>Philippines</td>\n",
       "      <td>5</td>\n",
       "      <td>...</td>\n",
       "      <td>NaN</td>\n",
       "      <td>NaN</td>\n",
       "      <td>NaN</td>\n",
       "      <td>NaN</td>\n",
       "      <td>PGIS</td>\n",
       "      <td>-9</td>\n",
       "      <td>-9</td>\n",
       "      <td>1</td>\n",
       "      <td>1</td>\n",
       "      <td>NaN</td>\n",
       "    </tr>\n",
       "    <tr>\n",
       "      <th>3</th>\n",
       "      <td>197001000002</td>\n",
       "      <td>1970</td>\n",
       "      <td>1</td>\n",
       "      <td>0</td>\n",
       "      <td>NaN</td>\n",
       "      <td>0</td>\n",
       "      <td>NaN</td>\n",
       "      <td>78</td>\n",
       "      <td>Greece</td>\n",
       "      <td>8</td>\n",
       "      <td>...</td>\n",
       "      <td>NaN</td>\n",
       "      <td>NaN</td>\n",
       "      <td>NaN</td>\n",
       "      <td>NaN</td>\n",
       "      <td>PGIS</td>\n",
       "      <td>-9</td>\n",
       "      <td>-9</td>\n",
       "      <td>1</td>\n",
       "      <td>1</td>\n",
       "      <td>NaN</td>\n",
       "    </tr>\n",
       "    <tr>\n",
       "      <th>4</th>\n",
       "      <td>197001000003</td>\n",
       "      <td>1970</td>\n",
       "      <td>1</td>\n",
       "      <td>0</td>\n",
       "      <td>NaN</td>\n",
       "      <td>0</td>\n",
       "      <td>NaN</td>\n",
       "      <td>101</td>\n",
       "      <td>Japan</td>\n",
       "      <td>4</td>\n",
       "      <td>...</td>\n",
       "      <td>NaN</td>\n",
       "      <td>NaN</td>\n",
       "      <td>NaN</td>\n",
       "      <td>NaN</td>\n",
       "      <td>PGIS</td>\n",
       "      <td>-9</td>\n",
       "      <td>-9</td>\n",
       "      <td>1</td>\n",
       "      <td>1</td>\n",
       "      <td>NaN</td>\n",
       "    </tr>\n",
       "  </tbody>\n",
       "</table>\n",
       "<p>5 rows × 135 columns</p>\n",
       "</div>"
      ],
      "text/plain": [
       "        eventid  iyear  imonth  iday approxdate  extended resolution  country  \\\n",
       "0  197000000001   1970       7     2        NaN         0        NaN       58   \n",
       "1  197000000002   1970       0     0        NaN         0        NaN      130   \n",
       "2  197001000001   1970       1     0        NaN         0        NaN      160   \n",
       "3  197001000002   1970       1     0        NaN         0        NaN       78   \n",
       "4  197001000003   1970       1     0        NaN         0        NaN      101   \n",
       "\n",
       "          country_txt  region  ... addnotes scite1 scite2  scite3  dbsource  \\\n",
       "0  Dominican Republic       2  ...      NaN    NaN    NaN     NaN      PGIS   \n",
       "1              Mexico       1  ...      NaN    NaN    NaN     NaN      PGIS   \n",
       "2         Philippines       5  ...      NaN    NaN    NaN     NaN      PGIS   \n",
       "3              Greece       8  ...      NaN    NaN    NaN     NaN      PGIS   \n",
       "4               Japan       4  ...      NaN    NaN    NaN     NaN      PGIS   \n",
       "\n",
       "   INT_LOG  INT_IDEO INT_MISC INT_ANY  related  \n",
       "0        0         0        0       0      NaN  \n",
       "1        0         1        1       1      NaN  \n",
       "2       -9        -9        1       1      NaN  \n",
       "3       -9        -9        1       1      NaN  \n",
       "4       -9        -9        1       1      NaN  \n",
       "\n",
       "[5 rows x 135 columns]"
      ]
     },
     "execution_count": 1,
     "metadata": {},
     "output_type": "execute_result"
    }
   ],
   "source": [
    "import numpy as np\n",
    "import matplotlib.pyplot as plt\n",
    "import pandas as pd\n",
    "df = pd.read_csv(\"../ML/globalterrorismdb_0718dist.csv\")\n",
    "df.head()"
   ]
  },
  {
   "cell_type": "code",
   "execution_count": 2,
   "id": "058673d5",
   "metadata": {},
   "outputs": [
    {
     "data": {
      "text/html": [
       "<div>\n",
       "<style scoped>\n",
       "    .dataframe tbody tr th:only-of-type {\n",
       "        vertical-align: middle;\n",
       "    }\n",
       "\n",
       "    .dataframe tbody tr th {\n",
       "        vertical-align: top;\n",
       "    }\n",
       "\n",
       "    .dataframe thead th {\n",
       "        text-align: right;\n",
       "    }\n",
       "</style>\n",
       "<table border=\"1\" class=\"dataframe\">\n",
       "  <thead>\n",
       "    <tr style=\"text-align: right;\">\n",
       "      <th></th>\n",
       "      <th>Killed</th>\n",
       "      <th>Wounded</th>\n",
       "      <th>Casualities</th>\n",
       "      <th>AttackType</th>\n",
       "      <th>Target_type</th>\n",
       "      <th>Weapon_type</th>\n",
       "    </tr>\n",
       "  </thead>\n",
       "  <tbody>\n",
       "    <tr>\n",
       "      <th>0</th>\n",
       "      <td>1.0</td>\n",
       "      <td>0.0</td>\n",
       "      <td>1.0</td>\n",
       "      <td>Assassination</td>\n",
       "      <td>Private Citizens &amp; Property</td>\n",
       "      <td>Unknown</td>\n",
       "    </tr>\n",
       "    <tr>\n",
       "      <th>1</th>\n",
       "      <td>0.0</td>\n",
       "      <td>0.0</td>\n",
       "      <td>0.0</td>\n",
       "      <td>Hostage Taking (Kidnapping)</td>\n",
       "      <td>Government (Diplomatic)</td>\n",
       "      <td>Unknown</td>\n",
       "    </tr>\n",
       "    <tr>\n",
       "      <th>2</th>\n",
       "      <td>1.0</td>\n",
       "      <td>0.0</td>\n",
       "      <td>1.0</td>\n",
       "      <td>Assassination</td>\n",
       "      <td>Journalists &amp; Media</td>\n",
       "      <td>Unknown</td>\n",
       "    </tr>\n",
       "    <tr>\n",
       "      <th>3</th>\n",
       "      <td>NaN</td>\n",
       "      <td>NaN</td>\n",
       "      <td>NaN</td>\n",
       "      <td>Bombing/Explosion</td>\n",
       "      <td>Government (Diplomatic)</td>\n",
       "      <td>Explosives</td>\n",
       "    </tr>\n",
       "    <tr>\n",
       "      <th>4</th>\n",
       "      <td>NaN</td>\n",
       "      <td>NaN</td>\n",
       "      <td>NaN</td>\n",
       "      <td>Facility/Infrastructure Attack</td>\n",
       "      <td>Government (Diplomatic)</td>\n",
       "      <td>Incendiary</td>\n",
       "    </tr>\n",
       "    <tr>\n",
       "      <th>...</th>\n",
       "      <td>...</td>\n",
       "      <td>...</td>\n",
       "      <td>...</td>\n",
       "      <td>...</td>\n",
       "      <td>...</td>\n",
       "      <td>...</td>\n",
       "    </tr>\n",
       "    <tr>\n",
       "      <th>181686</th>\n",
       "      <td>1.0</td>\n",
       "      <td>2.0</td>\n",
       "      <td>3.0</td>\n",
       "      <td>Armed Assault</td>\n",
       "      <td>Military</td>\n",
       "      <td>Firearms</td>\n",
       "    </tr>\n",
       "    <tr>\n",
       "      <th>181687</th>\n",
       "      <td>2.0</td>\n",
       "      <td>7.0</td>\n",
       "      <td>9.0</td>\n",
       "      <td>Bombing/Explosion</td>\n",
       "      <td>Military</td>\n",
       "      <td>Explosives</td>\n",
       "    </tr>\n",
       "    <tr>\n",
       "      <th>181688</th>\n",
       "      <td>0.0</td>\n",
       "      <td>0.0</td>\n",
       "      <td>0.0</td>\n",
       "      <td>Facility/Infrastructure Attack</td>\n",
       "      <td>Private Citizens &amp; Property</td>\n",
       "      <td>Incendiary</td>\n",
       "    </tr>\n",
       "    <tr>\n",
       "      <th>181689</th>\n",
       "      <td>0.0</td>\n",
       "      <td>0.0</td>\n",
       "      <td>0.0</td>\n",
       "      <td>Bombing/Explosion</td>\n",
       "      <td>Government (General)</td>\n",
       "      <td>Explosives</td>\n",
       "    </tr>\n",
       "    <tr>\n",
       "      <th>181690</th>\n",
       "      <td>0.0</td>\n",
       "      <td>0.0</td>\n",
       "      <td>0.0</td>\n",
       "      <td>Bombing/Explosion</td>\n",
       "      <td>Unknown</td>\n",
       "      <td>Explosives</td>\n",
       "    </tr>\n",
       "  </tbody>\n",
       "</table>\n",
       "<p>181691 rows × 6 columns</p>\n",
       "</div>"
      ],
      "text/plain": [
       "        Killed  Wounded  Casualities                      AttackType  \\\n",
       "0          1.0      0.0          1.0                   Assassination   \n",
       "1          0.0      0.0          0.0     Hostage Taking (Kidnapping)   \n",
       "2          1.0      0.0          1.0                   Assassination   \n",
       "3          NaN      NaN          NaN               Bombing/Explosion   \n",
       "4          NaN      NaN          NaN  Facility/Infrastructure Attack   \n",
       "...        ...      ...          ...                             ...   \n",
       "181686     1.0      2.0          3.0                   Armed Assault   \n",
       "181687     2.0      7.0          9.0               Bombing/Explosion   \n",
       "181688     0.0      0.0          0.0  Facility/Infrastructure Attack   \n",
       "181689     0.0      0.0          0.0               Bombing/Explosion   \n",
       "181690     0.0      0.0          0.0               Bombing/Explosion   \n",
       "\n",
       "                        Target_type Weapon_type  \n",
       "0       Private Citizens & Property     Unknown  \n",
       "1           Government (Diplomatic)     Unknown  \n",
       "2               Journalists & Media     Unknown  \n",
       "3           Government (Diplomatic)  Explosives  \n",
       "4           Government (Diplomatic)  Incendiary  \n",
       "...                             ...         ...  \n",
       "181686                     Military    Firearms  \n",
       "181687                     Military  Explosives  \n",
       "181688  Private Citizens & Property  Incendiary  \n",
       "181689         Government (General)  Explosives  \n",
       "181690                      Unknown  Explosives  \n",
       "\n",
       "[181691 rows x 6 columns]"
      ]
     },
     "execution_count": 2,
     "metadata": {},
     "output_type": "execute_result"
    }
   ],
   "source": [
    "df.rename(columns={'iyear':'Year','imonth':'Month','city':'City','iday':'Day','country_txt':'Country','region_txt':'Region','attacktype1_txt':'AttackType','target1':'Target','nkill':'Killed','nwound':'Wounded','summary':'Summary','gname':'Group','targtype1_txt':'Target_type','weaptype1_txt':'Weapon_type','motive':'Motive'},inplace=True)\n",
    "df['Casualities'] = df.Killed + df.Wounded\n",
    "\n",
    "df=df[['Killed','Wounded','Casualities','AttackType','Target_type','Weapon_type']]\n",
    "\n",
    "df"
   ]
  },
  {
   "cell_type": "code",
   "execution_count": 3,
   "id": "bc5cb8f8",
   "metadata": {},
   "outputs": [
    {
     "data": {
      "text/html": [
       "<div>\n",
       "<style scoped>\n",
       "    .dataframe tbody tr th:only-of-type {\n",
       "        vertical-align: middle;\n",
       "    }\n",
       "\n",
       "    .dataframe tbody tr th {\n",
       "        vertical-align: top;\n",
       "    }\n",
       "\n",
       "    .dataframe thead th {\n",
       "        text-align: right;\n",
       "    }\n",
       "</style>\n",
       "<table border=\"1\" class=\"dataframe\">\n",
       "  <thead>\n",
       "    <tr style=\"text-align: right;\">\n",
       "      <th></th>\n",
       "      <th>Killed</th>\n",
       "      <th>Wounded</th>\n",
       "      <th>Casualities</th>\n",
       "      <th>AttackType</th>\n",
       "      <th>Target_type</th>\n",
       "      <th>Weapon_type</th>\n",
       "    </tr>\n",
       "  </thead>\n",
       "  <tbody>\n",
       "    <tr>\n",
       "      <th>0</th>\n",
       "      <td>1.0</td>\n",
       "      <td>0.0</td>\n",
       "      <td>1.0</td>\n",
       "      <td>Assassination</td>\n",
       "      <td>Private Citizens &amp; Property</td>\n",
       "      <td>Unknown</td>\n",
       "    </tr>\n",
       "    <tr>\n",
       "      <th>1</th>\n",
       "      <td>0.0</td>\n",
       "      <td>0.0</td>\n",
       "      <td>0.0</td>\n",
       "      <td>Hostage Taking (Kidnapping)</td>\n",
       "      <td>Government (Diplomatic)</td>\n",
       "      <td>Unknown</td>\n",
       "    </tr>\n",
       "    <tr>\n",
       "      <th>2</th>\n",
       "      <td>1.0</td>\n",
       "      <td>0.0</td>\n",
       "      <td>1.0</td>\n",
       "      <td>Assassination</td>\n",
       "      <td>Journalists &amp; Media</td>\n",
       "      <td>Unknown</td>\n",
       "    </tr>\n",
       "    <tr>\n",
       "      <th>5</th>\n",
       "      <td>0.0</td>\n",
       "      <td>0.0</td>\n",
       "      <td>0.0</td>\n",
       "      <td>Armed Assault</td>\n",
       "      <td>Police</td>\n",
       "      <td>Firearms</td>\n",
       "    </tr>\n",
       "    <tr>\n",
       "      <th>6</th>\n",
       "      <td>0.0</td>\n",
       "      <td>0.0</td>\n",
       "      <td>0.0</td>\n",
       "      <td>Assassination</td>\n",
       "      <td>Police</td>\n",
       "      <td>Firearms</td>\n",
       "    </tr>\n",
       "    <tr>\n",
       "      <th>...</th>\n",
       "      <td>...</td>\n",
       "      <td>...</td>\n",
       "      <td>...</td>\n",
       "      <td>...</td>\n",
       "      <td>...</td>\n",
       "      <td>...</td>\n",
       "    </tr>\n",
       "    <tr>\n",
       "      <th>181686</th>\n",
       "      <td>1.0</td>\n",
       "      <td>2.0</td>\n",
       "      <td>3.0</td>\n",
       "      <td>Armed Assault</td>\n",
       "      <td>Military</td>\n",
       "      <td>Firearms</td>\n",
       "    </tr>\n",
       "    <tr>\n",
       "      <th>181687</th>\n",
       "      <td>2.0</td>\n",
       "      <td>7.0</td>\n",
       "      <td>9.0</td>\n",
       "      <td>Bombing/Explosion</td>\n",
       "      <td>Military</td>\n",
       "      <td>Explosives</td>\n",
       "    </tr>\n",
       "    <tr>\n",
       "      <th>181688</th>\n",
       "      <td>0.0</td>\n",
       "      <td>0.0</td>\n",
       "      <td>0.0</td>\n",
       "      <td>Facility/Infrastructure Attack</td>\n",
       "      <td>Private Citizens &amp; Property</td>\n",
       "      <td>Incendiary</td>\n",
       "    </tr>\n",
       "    <tr>\n",
       "      <th>181689</th>\n",
       "      <td>0.0</td>\n",
       "      <td>0.0</td>\n",
       "      <td>0.0</td>\n",
       "      <td>Bombing/Explosion</td>\n",
       "      <td>Government (General)</td>\n",
       "      <td>Explosives</td>\n",
       "    </tr>\n",
       "    <tr>\n",
       "      <th>181690</th>\n",
       "      <td>0.0</td>\n",
       "      <td>0.0</td>\n",
       "      <td>0.0</td>\n",
       "      <td>Bombing/Explosion</td>\n",
       "      <td>Unknown</td>\n",
       "      <td>Explosives</td>\n",
       "    </tr>\n",
       "  </tbody>\n",
       "</table>\n",
       "<p>164817 rows × 6 columns</p>\n",
       "</div>"
      ],
      "text/plain": [
       "        Killed  Wounded  Casualities                      AttackType  \\\n",
       "0          1.0      0.0          1.0                   Assassination   \n",
       "1          0.0      0.0          0.0     Hostage Taking (Kidnapping)   \n",
       "2          1.0      0.0          1.0                   Assassination   \n",
       "5          0.0      0.0          0.0                   Armed Assault   \n",
       "6          0.0      0.0          0.0                   Assassination   \n",
       "...        ...      ...          ...                             ...   \n",
       "181686     1.0      2.0          3.0                   Armed Assault   \n",
       "181687     2.0      7.0          9.0               Bombing/Explosion   \n",
       "181688     0.0      0.0          0.0  Facility/Infrastructure Attack   \n",
       "181689     0.0      0.0          0.0               Bombing/Explosion   \n",
       "181690     0.0      0.0          0.0               Bombing/Explosion   \n",
       "\n",
       "                        Target_type Weapon_type  \n",
       "0       Private Citizens & Property     Unknown  \n",
       "1           Government (Diplomatic)     Unknown  \n",
       "2               Journalists & Media     Unknown  \n",
       "5                            Police    Firearms  \n",
       "6                            Police    Firearms  \n",
       "...                             ...         ...  \n",
       "181686                     Military    Firearms  \n",
       "181687                     Military  Explosives  \n",
       "181688  Private Citizens & Property  Incendiary  \n",
       "181689         Government (General)  Explosives  \n",
       "181690                      Unknown  Explosives  \n",
       "\n",
       "[164817 rows x 6 columns]"
      ]
     },
     "execution_count": 3,
     "metadata": {},
     "output_type": "execute_result"
    }
   ],
   "source": [
    "import pandas as pd\n",
    "import numpy as np\n",
    "df.isnull().sum()\n",
    "df=df.dropna()\n",
    "df\n"
   ]
  },
  {
   "cell_type": "markdown",
   "id": "c2cf4659",
   "metadata": {},
   "source": [
    "# Using datase 'Killed','Wounded','Casualities','AttackType' "
   ]
  },
  {
   "cell_type": "markdown",
   "id": "49e3dee4",
   "metadata": {},
   "source": [
    "### For KNN"
   ]
  },
  {
   "cell_type": "code",
   "execution_count": 12,
   "id": "045f813a",
   "metadata": {},
   "outputs": [
    {
     "data": {
      "text/plain": [
       "array([[1., 0., 1.],\n",
       "       [0., 0., 0.],\n",
       "       [1., 0., 1.],\n",
       "       ...,\n",
       "       [0., 0., 0.],\n",
       "       [0., 0., 0.],\n",
       "       [0., 0., 0.]])"
      ]
     },
     "execution_count": 12,
     "metadata": {},
     "output_type": "execute_result"
    }
   ],
   "source": [
    "df1=df[['Killed','Wounded','Casualities','AttackType']]\n",
    "X = df1.iloc[:, :-1].values\n",
    "y = df1.iloc[:, 3].values\n",
    "X"
   ]
  },
  {
   "cell_type": "code",
   "execution_count": 13,
   "id": "cca30ec2",
   "metadata": {},
   "outputs": [],
   "source": [
    "from sklearn.model_selection import train_test_split\n",
    "X_train, X_test, y_train, y_test = train_test_split(X, y, test_size=0.20)"
   ]
  },
  {
   "cell_type": "code",
   "execution_count": 14,
   "id": "86af2434",
   "metadata": {},
   "outputs": [],
   "source": [
    "from sklearn.preprocessing import StandardScaler\n",
    "scaler = StandardScaler()\n",
    "scaler.fit(X_train)\n",
    "X_train = scaler.transform(X_train)\n",
    "X_test = scaler.transform(X_test)"
   ]
  },
  {
   "cell_type": "code",
   "execution_count": 15,
   "id": "a44e3cb9",
   "metadata": {},
   "outputs": [],
   "source": [
    "from sklearn.neighbors import KNeighborsClassifier\n",
    "classifier = KNeighborsClassifier(n_neighbors=5)\n",
    "classifier.fit(X_train, y_train)\n",
    "y_pred = classifier.predict(X_test)"
   ]
  },
  {
   "cell_type": "code",
   "execution_count": 16,
   "id": "38d3f44e",
   "metadata": {},
   "outputs": [
    {
     "name": "stdout",
     "output_type": "stream",
     "text": [
      "[[2865 1461 1772 1362    0    0  207    1   98]\n",
      " [ 912 1732  467  380    0    0   65    0    3]\n",
      " [2777  690 5147 7784    0    0  111    1   36]\n",
      " [  64   24   82 1740    0    0    3    0    1]\n",
      " [  19    7   14   91    0    0    1    0    1]\n",
      " [  24   11   16  107    0    0    1    0    1]\n",
      " [ 245  305   96  909    0    0   17    0    8]\n",
      " [  45    9   56   65    0    0    0    0    0]\n",
      " [ 411  138  240  281    0    0   43    0   18]]\n"
     ]
    },
    {
     "name": "stderr",
     "output_type": "stream",
     "text": [
      "C:\\ProgramData\\Anaconda3\\lib\\site-packages\\sklearn\\metrics\\_classification.py:1245: UndefinedMetricWarning: Precision and F-score are ill-defined and being set to 0.0 in labels with no predicted samples. Use `zero_division` parameter to control this behavior.\n",
      "  _warn_prf(average, modifier, msg_start, len(result))\n",
      "C:\\ProgramData\\Anaconda3\\lib\\site-packages\\sklearn\\metrics\\_classification.py:1245: UndefinedMetricWarning: Precision and F-score are ill-defined and being set to 0.0 in labels with no predicted samples. Use `zero_division` parameter to control this behavior.\n",
      "  _warn_prf(average, modifier, msg_start, len(result))\n"
     ]
    },
    {
     "name": "stdout",
     "output_type": "stream",
     "text": [
      "                                     precision    recall  f1-score   support\n",
      "\n",
      "                      Armed Assault       0.39      0.37      0.38      7766\n",
      "                      Assassination       0.40      0.49      0.44      3559\n",
      "                  Bombing/Explosion       0.65      0.31      0.42     16546\n",
      "     Facility/Infrastructure Attack       0.14      0.91      0.24      1914\n",
      "                          Hijacking       0.00      0.00      0.00       133\n",
      "Hostage Taking (Barricade Incident)       0.00      0.00      0.00       160\n",
      "        Hostage Taking (Kidnapping)       0.04      0.01      0.02      1580\n",
      "                    Unarmed Assault       0.00      0.00      0.00       175\n",
      "                            Unknown       0.11      0.02      0.03      1131\n",
      "\n",
      "                           accuracy                           0.35     32964\n",
      "                          macro avg       0.19      0.23      0.17     32964\n",
      "                       weighted avg       0.48      0.35      0.36     32964\n",
      "\n"
     ]
    },
    {
     "name": "stderr",
     "output_type": "stream",
     "text": [
      "C:\\ProgramData\\Anaconda3\\lib\\site-packages\\sklearn\\metrics\\_classification.py:1245: UndefinedMetricWarning: Precision and F-score are ill-defined and being set to 0.0 in labels with no predicted samples. Use `zero_division` parameter to control this behavior.\n",
      "  _warn_prf(average, modifier, msg_start, len(result))\n"
     ]
    }
   ],
   "source": [
    "from sklearn.metrics import classification_report, confusion_matrix\n",
    "print(confusion_matrix(y_test, y_pred))\n",
    "print(classification_report(y_test, y_pred))\n"
   ]
  },
  {
   "cell_type": "code",
   "execution_count": 17,
   "id": "d3ee43d4",
   "metadata": {},
   "outputs": [
    {
     "data": {
      "text/plain": [
       "Text(0, 0.5, 'Mean Error')"
      ]
     },
     "execution_count": 17,
     "metadata": {},
     "output_type": "execute_result"
    },
    {
     "data": {
      "image/png": "[encoded data removed]",
      "text/plain": [
       "<Figure size 864x432 with 1 Axes>"
      ]
     },
     "metadata": {
      "needs_background": "light"
     },
     "output_type": "display_data"
    }
   ],
   "source": [
    "error = []\n",
    "# Calculating error for K values between 1 and 40\n",
    "for i in range(1, 40):\n",
    "    knn = KNeighborsClassifier(n_neighbors=i)\n",
    "    knn.fit(X_train, y_train)\n",
    "    pred_i = knn.predict(X_test)\n",
    "    error.append(np.mean(pred_i != y_test))\n",
    "plt.figure(figsize=(12, 6))\n",
    "plt.plot(range(1, 40), error, color='red', linestyle='dashed', marker='o', markerfacecolor='blue', markersize=10)\n",
    "plt.title('Error Rate K Value')\n",
    "plt.xlabel('K Value')\n",
    "plt.ylabel('Mean Error')"
   ]
  },
  {
   "cell_type": "markdown",
   "id": "2647963e",
   "metadata": {},
   "source": [
    "### For MLP propagation"
   ]
  },
  {
   "cell_type": "code",
   "execution_count": 4,
   "id": "a315b83e",
   "metadata": {},
   "outputs": [
    {
     "data": {
      "text/html": [
       "<div>\n",
       "<style scoped>\n",
       "    .dataframe tbody tr th:only-of-type {\n",
       "        vertical-align: middle;\n",
       "    }\n",
       "\n",
       "    .dataframe tbody tr th {\n",
       "        vertical-align: top;\n",
       "    }\n",
       "\n",
       "    .dataframe thead th {\n",
       "        text-align: right;\n",
       "    }\n",
       "</style>\n",
       "<table border=\"1\" class=\"dataframe\">\n",
       "  <thead>\n",
       "    <tr style=\"text-align: right;\">\n",
       "      <th></th>\n",
       "      <th>AttackType</th>\n",
       "    </tr>\n",
       "  </thead>\n",
       "  <tbody>\n",
       "    <tr>\n",
       "      <th>0</th>\n",
       "      <td>Assassination</td>\n",
       "    </tr>\n",
       "    <tr>\n",
       "      <th>1</th>\n",
       "      <td>Hostage Taking (Kidnapping)</td>\n",
       "    </tr>\n",
       "    <tr>\n",
       "      <th>2</th>\n",
       "      <td>Assassination</td>\n",
       "    </tr>\n",
       "    <tr>\n",
       "      <th>5</th>\n",
       "      <td>Armed Assault</td>\n",
       "    </tr>\n",
       "    <tr>\n",
       "      <th>6</th>\n",
       "      <td>Assassination</td>\n",
       "    </tr>\n",
       "    <tr>\n",
       "      <th>...</th>\n",
       "      <td>...</td>\n",
       "    </tr>\n",
       "    <tr>\n",
       "      <th>181686</th>\n",
       "      <td>Armed Assault</td>\n",
       "    </tr>\n",
       "    <tr>\n",
       "      <th>181687</th>\n",
       "      <td>Bombing/Explosion</td>\n",
       "    </tr>\n",
       "    <tr>\n",
       "      <th>181688</th>\n",
       "      <td>Facility/Infrastructure Attack</td>\n",
       "    </tr>\n",
       "    <tr>\n",
       "      <th>181689</th>\n",
       "      <td>Bombing/Explosion</td>\n",
       "    </tr>\n",
       "    <tr>\n",
       "      <th>181690</th>\n",
       "      <td>Bombing/Explosion</td>\n",
       "    </tr>\n",
       "  </tbody>\n",
       "</table>\n",
       "<p>164817 rows × 1 columns</p>\n",
       "</div>"
      ],
      "text/plain": [
       "                            AttackType\n",
       "0                        Assassination\n",
       "1          Hostage Taking (Kidnapping)\n",
       "2                        Assassination\n",
       "5                        Armed Assault\n",
       "6                        Assassination\n",
       "...                                ...\n",
       "181686                   Armed Assault\n",
       "181687               Bombing/Explosion\n",
       "181688  Facility/Infrastructure Attack\n",
       "181689               Bombing/Explosion\n",
       "181690               Bombing/Explosion\n",
       "\n",
       "[164817 rows x 1 columns]"
      ]
     },
     "execution_count": 4,
     "metadata": {},
     "output_type": "execute_result"
    }
   ],
   "source": [
    "df1=df[['Killed','Wounded','Casualities','AttackType']]\n",
    "X = df1.iloc[:, 0:3].values\n",
    "y = df1.select_dtypes(include=[object])\n",
    "y"
   ]
  },
  {
   "cell_type": "code",
   "execution_count": 5,
   "id": "1e94b60d",
   "metadata": {},
   "outputs": [
    {
     "data": {
      "text/plain": [
       "array(['Assassination', 'Hostage Taking (Kidnapping)', 'Armed Assault',\n",
       "       'Bombing/Explosion', 'Facility/Infrastructure Attack', 'Hijacking',\n",
       "       'Unknown', 'Unarmed Assault',\n",
       "       'Hostage Taking (Barricade Incident)'], dtype=object)"
      ]
     },
     "execution_count": 5,
     "metadata": {},
     "output_type": "execute_result"
    }
   ],
   "source": [
    "y.head()\n",
    "y.AttackType.unique()"
   ]
  },
  {
   "cell_type": "code",
   "execution_count": 6,
   "id": "84cb164a",
   "metadata": {},
   "outputs": [],
   "source": [
    "from sklearn import preprocessing\n",
    "le = preprocessing.LabelEncoder()\n",
    "y=y.apply(le.fit_transform)"
   ]
  },
  {
   "cell_type": "code",
   "execution_count": 7,
   "id": "84fc04b0",
   "metadata": {},
   "outputs": [],
   "source": [
    "from sklearn.model_selection import train_test_split\n",
    "X_train, X_test, y_train, y_test = train_test_split(X, y)\n"
   ]
  },
  {
   "cell_type": "code",
   "execution_count": 8,
   "id": "1f3e6de0",
   "metadata": {},
   "outputs": [],
   "source": [
    "from sklearn.preprocessing import StandardScaler\n",
    "scaler = StandardScaler()\n",
    "scaler.fit(X_train)\n",
    "X_train = scaler.transform(X_train)\n",
    "X_test = scaler.transform(X_test)\n"
   ]
  },
  {
   "cell_type": "code",
   "execution_count": 9,
   "id": "c1ddd803",
   "metadata": {},
   "outputs": [],
   "source": [
    "from sklearn.neural_network import MLPClassifier\n",
    "mlp = MLPClassifier(hidden_layer_sizes=(10,10,10),max_iter=1000)\n",
    "mlp.fit(X_train, y_train.values.ravel())\n",
    "predictions = mlp.predict(X_test)\n"
   ]
  },
  {
   "cell_type": "code",
   "execution_count": 10,
   "id": "7e0cd6a5",
   "metadata": {},
   "outputs": [
    {
     "name": "stdout",
     "output_type": "stream",
     "text": [
      "0.5726628482671585\n",
      "0.5716539254944788\n"
     ]
    }
   ],
   "source": [
    "from sklearn.metrics import accuracy_score\n",
    "predictions_train = mlp.predict(X_train)\n",
    "print(accuracy_score(predictions_train, y_train))\n",
    "predictions_test = mlp.predict(X_test)\n",
    "print(accuracy_score(predictions_test, y_test))\n"
   ]
  },
  {
   "cell_type": "code",
   "execution_count": 11,
   "id": "7aa3cb4f",
   "metadata": {},
   "outputs": [
    {
     "name": "stdout",
     "output_type": "stream",
     "text": [
      "[[ 3419  1828  4324     0     0     0     1     0     0]\n",
      " [  937  2232  1347     0     0     0     0     0     0]\n",
      " [ 1973   729 17902     0     0     0     0     0     0]\n",
      " [   68    38  2269     0     0     0     0     0     0]\n",
      " [   13     8   126     0     0     0     0     0     0]\n",
      " [   27    11   187     0     0     0     0     0     0]\n",
      " [  306   367  1303     0     0     0     0     0     0]\n",
      " [   15    15   208     0     0     0     0     2     0]\n",
      " [  573   151   826     0     0     0     0     0     0]]\n",
      "              precision    recall  f1-score   support\n",
      "\n",
      "           0       0.47      0.36      0.40      9572\n",
      "           1       0.41      0.49      0.45      4516\n",
      "           2       0.63      0.87      0.73     20604\n",
      "           3       0.00      0.00      0.00      2375\n",
      "           4       0.00      0.00      0.00       147\n",
      "           5       0.00      0.00      0.00       225\n",
      "           6       0.00      0.00      0.00      1976\n",
      "           7       1.00      0.01      0.02       240\n",
      "           8       0.00      0.00      0.00      1550\n",
      "\n",
      "    accuracy                           0.57     41205\n",
      "   macro avg       0.28      0.19      0.18     41205\n",
      "weighted avg       0.47      0.57      0.51     41205\n",
      "\n"
     ]
    },
    {
     "name": "stderr",
     "output_type": "stream",
     "text": [
      "C:\\ProgramData\\Anaconda3\\lib\\site-packages\\sklearn\\metrics\\_classification.py:1245: UndefinedMetricWarning: Precision and F-score are ill-defined and being set to 0.0 in labels with no predicted samples. Use `zero_division` parameter to control this behavior.\n",
      "  _warn_prf(average, modifier, msg_start, len(result))\n",
      "C:\\ProgramData\\Anaconda3\\lib\\site-packages\\sklearn\\metrics\\_classification.py:1245: UndefinedMetricWarning: Precision and F-score are ill-defined and being set to 0.0 in labels with no predicted samples. Use `zero_division` parameter to control this behavior.\n",
      "  _warn_prf(average, modifier, msg_start, len(result))\n",
      "C:\\ProgramData\\Anaconda3\\lib\\site-packages\\sklearn\\metrics\\_classification.py:1245: UndefinedMetricWarning: Precision and F-score are ill-defined and being set to 0.0 in labels with no predicted samples. Use `zero_division` parameter to control this behavior.\n",
      "  _warn_prf(average, modifier, msg_start, len(result))\n"
     ]
    }
   ],
   "source": [
    "from sklearn.metrics import classification_report, confusion_matrix\n",
    "print(confusion_matrix(y_test, predictions))\n",
    "print(classification_report(y_test, predictions))\n"
   ]
  },
  {
   "cell_type": "markdown",
   "id": "d8948dbe",
   "metadata": {},
   "source": [
    "# Using dataset 'Killed','Wounded','Casualities','Target_type' "
   ]
  },
  {
   "cell_type": "markdown",
   "id": "6d9100b2",
   "metadata": {},
   "source": [
    "### For KNN"
   ]
  },
  {
   "cell_type": "code",
   "execution_count": 43,
   "id": "e2a037a8",
   "metadata": {},
   "outputs": [
    {
     "data": {
      "text/plain": [
       "array([[1., 0., 1.],\n",
       "       [0., 0., 0.],\n",
       "       [1., 0., 1.],\n",
       "       ...,\n",
       "       [0., 0., 0.],\n",
       "       [0., 0., 0.],\n",
       "       [0., 0., 0.]])"
      ]
     },
     "execution_count": 43,
     "metadata": {},
     "output_type": "execute_result"
    }
   ],
   "source": [
    "df2=df[['Killed','Wounded','Casualities','Target_type']]\n",
    "X = df2.iloc[:, :-1].values\n",
    "y = df2.iloc[:, 3].values\n",
    "X"
   ]
  },
  {
   "cell_type": "code",
   "execution_count": 44,
   "id": "72fba0af",
   "metadata": {},
   "outputs": [],
   "source": [
    "from sklearn.model_selection import train_test_split\n",
    "X_train, X_test, y_train, y_test = train_test_split(X, y)"
   ]
  },
  {
   "cell_type": "code",
   "execution_count": 45,
   "id": "341390cf",
   "metadata": {},
   "outputs": [],
   "source": [
    "from sklearn.preprocessing import StandardScaler\n",
    "scaler = StandardScaler()\n",
    "scaler.fit(X_train)\n",
    "X_train = scaler.transform(X_train)\n",
    "X_test = scaler.transform(X_test)"
   ]
  },
  {
   "cell_type": "code",
   "execution_count": 46,
   "id": "6e5f3557",
   "metadata": {},
   "outputs": [],
   "source": [
    "from sklearn.neighbors import KNeighborsClassifier\n",
    "classifier = KNeighborsClassifier(n_neighbors=5)\n",
    "classifier.fit(X_train, y_train)\n",
    "y_pred = classifier.predict(X_test)"
   ]
  },
  {
   "cell_type": "code",
   "execution_count": 47,
   "id": "063c57d8",
   "metadata": {},
   "outputs": [
    {
     "name": "stdout",
     "output_type": "stream",
     "text": [
      "[[   0    0   56    0    0    0    0    0    0    0    0    0    1    6\n",
      "     0    0    0    0    0    0    0    0]\n",
      " [   0    1  218    2    0    0   15    0    0   20    0    0   10   34\n",
      "     0    0    0    0    3    0    0    0]\n",
      " [   0   39 2928   40    0    0  402    2    3  278    0    0  189  733\n",
      "     6    0    1    0   17    0    0    0]\n",
      " [   0    1  616   14    0    0  173    0    0   53    0    0   34  133\n",
      "     1    0    0    0    1    1    0    0]\n",
      " [   0    0   52    0    0    0    3    0    0    5    0    0    4    9\n",
      "     0    0    0    0    0    0    0    0]\n",
      " [   0    3  583   12    0    0   89    0    0   47    0    0   29  120\n",
      "     2    0    0    0    0    0    0    0]\n",
      " [   0   12 2302   68    0    0 1215    0    1  378    0    0  258  836\n",
      "     3    0    0    0   10    0    0    0]\n",
      " [   0    0  372    5    0    0  157    0    0   20    0    0    8  108\n",
      "     0    0    0    0    0    0    0    0]\n",
      " [   0    0   44    0    0    0    5    0    0    6    0    0    4   14\n",
      "     1    0    1    0    2    0    0    0]\n",
      " [   0   29 1544  155    0    3  837    0    5  998    0    0  684 1608\n",
      "    12    0   14    0   15    0    0    0]\n",
      " [   0    0  110    1    0    0   40    0    0   16    0    0   12   31\n",
      "     0    0    0    0    0    0    0    0]\n",
      " [   0    0   15    1    0    0    4    0    0    2    0    0    3    5\n",
      "     0    0    0    0    1    0    0    0]\n",
      " [   0   37 1566  168    0    0 1089    1    5  905    0    0  646 1367\n",
      "    12    0    8    0   15    0    0    0]\n",
      " [   0   69 3020  185    0    3 1711    1    5 1313    0    0  763 2545\n",
      "    12    0    7    0   38    1    0    1]\n",
      " [   0    6  472   13    0    0  203    0    1  106    0    0   55  161\n",
      "     2    0    2    0    7    0    0    0]\n",
      " [   0    0  205    2    0    0   13    0    0    1    0    0    3    9\n",
      "     0    0    0    0    0    0    0    0]\n",
      " [   0    3  100   18    0    0  180    0    3  110    0    0   72  188\n",
      "     2    0    1    0    1    0    0    0]\n",
      " [   0    1   52    0    0    0   10    0    0    6    0    0    6   16\n",
      "     1    0    0    0    0    0    0    0]\n",
      " [   0   12  951   16    0    0   84    1    1  136    0    0   79  284\n",
      "     3    0    0    0   17    0    0    0]\n",
      " [   0    3 1078    6    0    0   89    0    2   74    0    0   47  101\n",
      "     2    0    0    0    1    0    0    0]\n",
      " [   0    0 1195    2    0    0   17    0    0   16    0    0    6   30\n",
      "     1    0    1    0    1    0    0    0]\n",
      " [   0    0  145    5    0    0  136    0    0   47    0    0   19  107\n",
      "     1    0    0    0    1    0    0    0]]\n"
     ]
    },
    {
     "name": "stderr",
     "output_type": "stream",
     "text": [
      "C:\\ProgramData\\Anaconda3\\lib\\site-packages\\sklearn\\metrics\\_classification.py:1245: UndefinedMetricWarning: Precision and F-score are ill-defined and being set to 0.0 in labels with no predicted samples. Use `zero_division` parameter to control this behavior.\n",
      "  _warn_prf(average, modifier, msg_start, len(result))\n",
      "C:\\ProgramData\\Anaconda3\\lib\\site-packages\\sklearn\\metrics\\_classification.py:1245: UndefinedMetricWarning: Precision and F-score are ill-defined and being set to 0.0 in labels with no predicted samples. Use `zero_division` parameter to control this behavior.\n",
      "  _warn_prf(average, modifier, msg_start, len(result))\n"
     ]
    },
    {
     "name": "stdout",
     "output_type": "stream",
     "text": [
      "                                precision    recall  f1-score   support\n",
      "\n",
      "              Abortion Related       0.00      0.00      0.00        63\n",
      "           Airports & Aircraft       0.00      0.00      0.00       303\n",
      "                      Business       0.17      0.63      0.26      4638\n",
      "       Educational Institution       0.02      0.01      0.02      1027\n",
      "          Food or Water Supply       0.00      0.00      0.00        73\n",
      "       Government (Diplomatic)       0.00      0.00      0.00       885\n",
      "          Government (General)       0.19      0.24      0.21      5083\n",
      "           Journalists & Media       0.00      0.00      0.00       670\n",
      "                      Maritime       0.00      0.00      0.00        77\n",
      "                      Military       0.22      0.17      0.19      5904\n",
      "                           NGO       0.00      0.00      0.00       210\n",
      "                         Other       0.00      0.00      0.00        31\n",
      "                        Police       0.22      0.11      0.15      5819\n",
      "   Private Citizens & Property       0.30      0.26      0.28      9674\n",
      "Religious Figures/Institutions       0.03      0.00      0.00      1028\n",
      "             Telecommunication       0.00      0.00      0.00       233\n",
      "  Terrorists/Non-State Militia       0.03      0.00      0.00       678\n",
      "                      Tourists       0.00      0.00      0.00        92\n",
      "                Transportation       0.13      0.01      0.02      1584\n",
      "                       Unknown       0.00      0.00      0.00      1403\n",
      "                     Utilities       0.00      0.00      0.00      1269\n",
      "       Violent Political Party       0.00      0.00      0.00       461\n",
      "\n",
      "                      accuracy                           0.20     41205\n",
      "                     macro avg       0.06      0.07      0.05     41205\n",
      "                  weighted avg       0.18      0.20      0.17     41205\n",
      "\n"
     ]
    },
    {
     "name": "stderr",
     "output_type": "stream",
     "text": [
      "C:\\ProgramData\\Anaconda3\\lib\\site-packages\\sklearn\\metrics\\_classification.py:1245: UndefinedMetricWarning: Precision and F-score are ill-defined and being set to 0.0 in labels with no predicted samples. Use `zero_division` parameter to control this behavior.\n",
      "  _warn_prf(average, modifier, msg_start, len(result))\n"
     ]
    }
   ],
   "source": [
    "from sklearn.metrics import classification_report, confusion_matrix\n",
    "print(confusion_matrix(y_test, y_pred))\n",
    "print(classification_report(y_test, y_pred))\n"
   ]
  },
  {
   "cell_type": "code",
   "execution_count": 48,
   "id": "ed831756",
   "metadata": {},
   "outputs": [
    {
     "data": {
      "text/plain": [
       "Text(0, 0.5, 'Mean Error')"
      ]
     },
     "execution_count": 48,
     "metadata": {},
     "output_type": "execute_result"
    },
    {
     "data": {
      "image/png": "[encoded data removed]",
      "text/plain": [
       "<Figure size 864x432 with 1 Axes>"
      ]
     },
     "metadata": {
      "needs_background": "light"
     },
     "output_type": "display_data"
    }
   ],
   "source": [
    "error = []\n",
    "# Calculating error for K values between 1 and 40\n",
    "for i in range(1, 40):\n",
    "    knn = KNeighborsClassifier(n_neighbors=i)\n",
    "    knn.fit(X_train, y_train)\n",
    "    pred_i = knn.predict(X_test)\n",
    "    error.append(np.mean(pred_i != y_test))\n",
    "plt.figure(figsize=(12, 6))\n",
    "plt.plot(range(1, 40), error, color='red', linestyle='dashed', marker='o',\n",
    "markerfacecolor='blue', markersize=10)\n",
    "plt.title('Error Rate K Value')\n",
    "plt.xlabel('K Value')\n",
    "plt.ylabel('Mean Error')"
   ]
  },
  {
   "cell_type": "markdown",
   "id": "df04668d",
   "metadata": {},
   "source": [
    "### For MLP propagation"
   ]
  },
  {
   "cell_type": "code",
   "execution_count": 35,
   "id": "92ab4b3c",
   "metadata": {},
   "outputs": [
    {
     "data": {
      "text/html": [
       "<div>\n",
       "<style scoped>\n",
       "    .dataframe tbody tr th:only-of-type {\n",
       "        vertical-align: middle;\n",
       "    }\n",
       "\n",
       "    .dataframe tbody tr th {\n",
       "        vertical-align: top;\n",
       "    }\n",
       "\n",
       "    .dataframe thead th {\n",
       "        text-align: right;\n",
       "    }\n",
       "</style>\n",
       "<table border=\"1\" class=\"dataframe\">\n",
       "  <thead>\n",
       "    <tr style=\"text-align: right;\">\n",
       "      <th></th>\n",
       "      <th>Target_type</th>\n",
       "    </tr>\n",
       "  </thead>\n",
       "  <tbody>\n",
       "    <tr>\n",
       "      <th>0</th>\n",
       "      <td>Private Citizens &amp; Property</td>\n",
       "    </tr>\n",
       "    <tr>\n",
       "      <th>1</th>\n",
       "      <td>Government (Diplomatic)</td>\n",
       "    </tr>\n",
       "    <tr>\n",
       "      <th>2</th>\n",
       "      <td>Journalists &amp; Media</td>\n",
       "    </tr>\n",
       "    <tr>\n",
       "      <th>5</th>\n",
       "      <td>Police</td>\n",
       "    </tr>\n",
       "    <tr>\n",
       "      <th>6</th>\n",
       "      <td>Police</td>\n",
       "    </tr>\n",
       "    <tr>\n",
       "      <th>...</th>\n",
       "      <td>...</td>\n",
       "    </tr>\n",
       "    <tr>\n",
       "      <th>181686</th>\n",
       "      <td>Military</td>\n",
       "    </tr>\n",
       "    <tr>\n",
       "      <th>181687</th>\n",
       "      <td>Military</td>\n",
       "    </tr>\n",
       "    <tr>\n",
       "      <th>181688</th>\n",
       "      <td>Private Citizens &amp; Property</td>\n",
       "    </tr>\n",
       "    <tr>\n",
       "      <th>181689</th>\n",
       "      <td>Government (General)</td>\n",
       "    </tr>\n",
       "    <tr>\n",
       "      <th>181690</th>\n",
       "      <td>Unknown</td>\n",
       "    </tr>\n",
       "  </tbody>\n",
       "</table>\n",
       "<p>164817 rows × 1 columns</p>\n",
       "</div>"
      ],
      "text/plain": [
       "                        Target_type\n",
       "0       Private Citizens & Property\n",
       "1           Government (Diplomatic)\n",
       "2               Journalists & Media\n",
       "5                            Police\n",
       "6                            Police\n",
       "...                             ...\n",
       "181686                     Military\n",
       "181687                     Military\n",
       "181688  Private Citizens & Property\n",
       "181689         Government (General)\n",
       "181690                      Unknown\n",
       "\n",
       "[164817 rows x 1 columns]"
      ]
     },
     "execution_count": 35,
     "metadata": {},
     "output_type": "execute_result"
    }
   ],
   "source": [
    "df2=df[['Killed','Wounded','Casualities','Target_type']]\n",
    "X = df2.iloc[:, 0:3].values\n",
    "y = df2.select_dtypes(include=[object])\n",
    "y"
   ]
  },
  {
   "cell_type": "code",
   "execution_count": 36,
   "id": "cbdc2efb",
   "metadata": {},
   "outputs": [
    {
     "data": {
      "text/plain": [
       "array(['Private Citizens & Property', 'Government (Diplomatic)',\n",
       "       'Journalists & Media', 'Police', 'Utilities', 'Military',\n",
       "       'Government (General)', 'Airports & Aircraft', 'Business',\n",
       "       'Educational Institution', 'Violent Political Party',\n",
       "       'Religious Figures/Institutions', 'Unknown', 'Transportation',\n",
       "       'NGO', 'Telecommunication', 'Food or Water Supply',\n",
       "       'Terrorists/Non-State Militia', 'Other', 'Tourists', 'Maritime',\n",
       "       'Abortion Related'], dtype=object)"
      ]
     },
     "execution_count": 36,
     "metadata": {},
     "output_type": "execute_result"
    }
   ],
   "source": [
    "y.head()\n",
    "y.Target_type.unique()"
   ]
  },
  {
   "cell_type": "code",
   "execution_count": 37,
   "id": "a86fdb91",
   "metadata": {},
   "outputs": [],
   "source": [
    "from sklearn import preprocessing\n",
    "le = preprocessing.LabelEncoder()\n",
    "y=y.apply(le.fit_transform)"
   ]
  },
  {
   "cell_type": "code",
   "execution_count": 38,
   "id": "9ec2a28a",
   "metadata": {},
   "outputs": [],
   "source": [
    "from sklearn.model_selection import train_test_split\n",
    "X_train, X_test, y_train, y_test = train_test_split(X, y)\n"
   ]
  },
  {
   "cell_type": "code",
   "execution_count": 39,
   "id": "b50d9e75",
   "metadata": {},
   "outputs": [],
   "source": [
    "from sklearn.preprocessing import StandardScaler\n",
    "scaler = StandardScaler()\n",
    "scaler.fit(X_train)\n",
    "X_train = scaler.transform(X_train)\n",
    "X_test = scaler.transform(X_test)\n"
   ]
  },
  {
   "cell_type": "code",
   "execution_count": 40,
   "id": "373d7056",
   "metadata": {},
   "outputs": [],
   "source": [
    "from sklearn.neural_network import MLPClassifier\n",
    "mlp = MLPClassifier(hidden_layer_sizes=(10,10,10),max_iter=1000)\n",
    "mlp.fit(X_train, y_train.values.ravel())\n",
    "predictions = mlp.predict(X_test)\n"
   ]
  },
  {
   "cell_type": "code",
   "execution_count": 41,
   "id": "404d01ed",
   "metadata": {},
   "outputs": [
    {
     "name": "stdout",
     "output_type": "stream",
     "text": [
      "0.24346341779115296\n",
      "0.241354204586822\n"
     ]
    }
   ],
   "source": [
    "from sklearn.metrics import accuracy_score\n",
    "predictions_train = mlp.predict(X_train)\n",
    "print(accuracy_score(predictions_train, y_train))\n",
    "predictions_test = mlp.predict(X_test)\n",
    "print(accuracy_score(predictions_test, y_test))\n"
   ]
  },
  {
   "cell_type": "code",
   "execution_count": 42,
   "id": "d362e53a",
   "metadata": {},
   "outputs": [
    {
     "name": "stdout",
     "output_type": "stream",
     "text": [
      "[[   0    0   62    0    0    0    0    0    0    0    0    0    0   11\n",
      "     0    0    0    0    0    0    0    0]\n",
      " [   0    0  179    0    0    0    0    0    0    8    0    0    0   82\n",
      "     0    0    0    0    0    0    0    0]\n",
      " [   0    0 2649    0    0    0    0    0    0   92    0    0    0 1878\n",
      "     0    0    0    0    0    0    0    0]\n",
      " [   0    0  623    0    0    0    0    0    0   14    0    0    0  397\n",
      "     0    0    0    0    0    0    0    0]\n",
      " [   0    0   57    0    0    0    0    0    0    3    0    0    0   13\n",
      "     0    0    0    0    0    0    0    0]\n",
      " [   0    0  505    0    0    0    0    0    0   13    0    0    0  312\n",
      "     0    0    0    0    0    0    0    0]\n",
      " [   0    0 2121    0    0    0    0    0    0  115    0    0    0 2809\n",
      "     0    0    0    0    0    0    0    0]\n",
      " [   0    0  322    0    0    0    0    0    0    1    0    0    0  310\n",
      "     0    0    0    0    0    0    0    0]\n",
      " [   0    0   36    0    0    0    0    0    0    2    0    0    0   34\n",
      "     0    0    0    0    0    0    0    0]\n",
      " [   0    0 1290    0    0    0    0    0    0  654    0    0    0 4050\n",
      "     0    0    0    0    0    0    0    0]\n",
      " [   0    0  113    0    0    0    0    0    0    5    0    0    0  102\n",
      "     0    0    0    0    0    0    0    0]\n",
      " [   0    0   10    0    0    0    0    0    0    1    0    0    0   25\n",
      "     0    0    0    0    0    0    0    0]\n",
      " [   0    0 1174    0    0    0    0    0    0  373    0    0    0 4262\n",
      "     0    0    0    0    0    0    0    0]\n",
      " [   0    0 2474    0    0    0    0    0    0  560    0    0    0 6642\n",
      "     0    0    0    0    0    0    0    0]\n",
      " [   0    0  451    0    0    0    0    0    0   37    0    0    0  544\n",
      "     0    0    0    0    0    0    0    0]\n",
      " [   0    0  189    0    0    0    0    0    0    1    0    0    0   36\n",
      "     0    0    0    0    0    0    0    0]\n",
      " [   0    0   75    0    0    0    0    0    0   55    0    0    0  549\n",
      "     0    0    0    0    0    0    0    0]\n",
      " [   0    0   47    0    0    0    0    0    0    2    0    0    0   51\n",
      "     0    0    0    0    0    0    0    0]\n",
      " [   0    0  893    0    0    0    0    0    0   71    0    0    0  673\n",
      "     0    0    0    0    0    1    0    0]\n",
      " [   0    0 1063    0    0    0    0    0    0   24    0    0    0  383\n",
      "     0    0    0    0    0    0    0    0]\n",
      " [   0    0 1165    0    0    0    0    0    0   11    0    0    0   67\n",
      "     0    0    0    0    0    0    0    0]\n",
      " [   0    0  142    0    0    0    0    0    0   12    0    0    0  280\n",
      "     0    0    0    0    0    0    0    0]]\n",
      "              precision    recall  f1-score   support\n",
      "\n",
      "           0       0.00      0.00      0.00        73\n",
      "           1       0.00      0.00      0.00       269\n",
      "           2       0.17      0.57      0.26      4619\n",
      "           3       0.00      0.00      0.00      1034\n",
      "           4       0.00      0.00      0.00        73\n",
      "           5       0.00      0.00      0.00       830\n",
      "           6       0.00      0.00      0.00      5045\n",
      "           7       0.00      0.00      0.00       633\n",
      "           8       0.00      0.00      0.00        72\n",
      "           9       0.32      0.11      0.16      5994\n",
      "          10       0.00      0.00      0.00       220\n",
      "          11       0.00      0.00      0.00        36\n",
      "          12       0.00      0.00      0.00      5809\n",
      "          13       0.28      0.69      0.40      9676\n",
      "          14       0.00      0.00      0.00      1032\n",
      "          15       0.00      0.00      0.00       226\n",
      "          16       0.00      0.00      0.00       679\n",
      "          17       0.00      0.00      0.00       100\n",
      "          18       0.00      0.00      0.00      1638\n",
      "          19       0.00      0.00      0.00      1470\n",
      "          20       0.00      0.00      0.00      1243\n",
      "          21       0.00      0.00      0.00       434\n",
      "\n",
      "    accuracy                           0.24     41205\n",
      "   macro avg       0.04      0.06      0.04     41205\n",
      "weighted avg       0.13      0.24      0.15     41205\n",
      "\n"
     ]
    },
    {
     "name": "stderr",
     "output_type": "stream",
     "text": [
      "C:\\ProgramData\\Anaconda3\\lib\\site-packages\\sklearn\\metrics\\_classification.py:1245: UndefinedMetricWarning: Precision and F-score are ill-defined and being set to 0.0 in labels with no predicted samples. Use `zero_division` parameter to control this behavior.\n",
      "  _warn_prf(average, modifier, msg_start, len(result))\n",
      "C:\\ProgramData\\Anaconda3\\lib\\site-packages\\sklearn\\metrics\\_classification.py:1245: UndefinedMetricWarning: Precision and F-score are ill-defined and being set to 0.0 in labels with no predicted samples. Use `zero_division` parameter to control this behavior.\n",
      "  _warn_prf(average, modifier, msg_start, len(result))\n",
      "C:\\ProgramData\\Anaconda3\\lib\\site-packages\\sklearn\\metrics\\_classification.py:1245: UndefinedMetricWarning: Precision and F-score are ill-defined and being set to 0.0 in labels with no predicted samples. Use `zero_division` parameter to control this behavior.\n",
      "  _warn_prf(average, modifier, msg_start, len(result))\n"
     ]
    }
   ],
   "source": [
    "from sklearn.metrics import classification_report, confusion_matrix\n",
    "print(confusion_matrix(y_test, predictions))\n",
    "print(classification_report(y_test, predictions))\n"
   ]
  },
  {
   "cell_type": "markdown",
   "id": "bdd6d24b",
   "metadata": {},
   "source": [
    "# Using datase 'Killed','Wounded','Casualities','Weapon_type' "
   ]
  },
  {
   "cell_type": "markdown",
   "id": "cc24b8a5",
   "metadata": {},
   "source": [
    "### For KNN"
   ]
  },
  {
   "cell_type": "code",
   "execution_count": 29,
   "id": "bfbac4d1",
   "metadata": {},
   "outputs": [
    {
     "data": {
      "text/plain": [
       "array([[1., 0., 1.],\n",
       "       [0., 0., 0.],\n",
       "       [1., 0., 1.],\n",
       "       ...,\n",
       "       [0., 0., 0.],\n",
       "       [0., 0., 0.],\n",
       "       [0., 0., 0.]])"
      ]
     },
     "execution_count": 29,
     "metadata": {},
     "output_type": "execute_result"
    }
   ],
   "source": [
    "df3=df[['Killed','Wounded','Casualities','Weapon_type']]\n",
    "X = df3.iloc[:, :-1].values\n",
    "y = df3.iloc[:, 3].values\n",
    "X"
   ]
  },
  {
   "cell_type": "code",
   "execution_count": 30,
   "id": "dd541d81",
   "metadata": {},
   "outputs": [],
   "source": [
    "from sklearn.model_selection import train_test_split\n",
    "X_train, X_test, y_train, y_test = train_test_split(X, y, test_size=0.20)"
   ]
  },
  {
   "cell_type": "code",
   "execution_count": 31,
   "id": "d0e6b506",
   "metadata": {},
   "outputs": [],
   "source": [
    "from sklearn.preprocessing import StandardScaler\n",
    "scaler = StandardScaler()\n",
    "scaler.fit(X_train)\n",
    "X_train = scaler.transform(X_train)\n",
    "X_test = scaler.transform(X_test)"
   ]
  },
  {
   "cell_type": "code",
   "execution_count": 32,
   "id": "ac48ed72",
   "metadata": {},
   "outputs": [],
   "source": [
    "from sklearn.neighbors import KNeighborsClassifier\n",
    "classifier = KNeighborsClassifier(n_neighbors=5)\n",
    "classifier.fit(X_train, y_train)\n",
    "y_pred = classifier.predict(X_test)"
   ]
  },
  {
   "cell_type": "code",
   "execution_count": 33,
   "id": "5ea1f8a8",
   "metadata": {},
   "outputs": [
    {
     "name": "stdout",
     "output_type": "stream",
     "text": [
      "[[    0     0     4     0     2     0     0     0     0     0     0     0]\n",
      " [    0     2    55     0     2     0     0     0     0     0     0     0]\n",
      " [    0     3 14894     0  2184     0     0     0     0     0    10     0]\n",
      " [    0     0     2     0     1     0     0     0     0     0     0     0]\n",
      " [    0     1  4392     0  6068     0     0     0     0     0    32     0]\n",
      " [    0     2  1962     0    87     0     0     0     0     0     2     0]\n",
      " [    0     0   320     0   369     0     0     0     0     0     2     0]\n",
      " [    0     0    15     0     4     0     0     0     0     0     0     0]\n",
      " [    0     0     4     0     0     0     0     0     0     0     0     0]\n",
      " [    0     0    26     0     0     0     0     0     0     0     0     0]\n",
      " [    0     0  1515     0   963     0     0     0     0     0    13     0]\n",
      " [    0     0    21     0     7     0     0     0     0     0     0     0]]\n"
     ]
    },
    {
     "name": "stderr",
     "output_type": "stream",
     "text": [
      "C:\\ProgramData\\Anaconda3\\lib\\site-packages\\sklearn\\metrics\\_classification.py:1245: UndefinedMetricWarning: Precision and F-score are ill-defined and being set to 0.0 in labels with no predicted samples. Use `zero_division` parameter to control this behavior.\n",
      "  _warn_prf(average, modifier, msg_start, len(result))\n",
      "C:\\ProgramData\\Anaconda3\\lib\\site-packages\\sklearn\\metrics\\_classification.py:1245: UndefinedMetricWarning: Precision and F-score are ill-defined and being set to 0.0 in labels with no predicted samples. Use `zero_division` parameter to control this behavior.\n",
      "  _warn_prf(average, modifier, msg_start, len(result))\n",
      "C:\\ProgramData\\Anaconda3\\lib\\site-packages\\sklearn\\metrics\\_classification.py:1245: UndefinedMetricWarning: Precision and F-score are ill-defined and being set to 0.0 in labels with no predicted samples. Use `zero_division` parameter to control this behavior.\n",
      "  _warn_prf(average, modifier, msg_start, len(result))\n"
     ]
    },
    {
     "name": "stdout",
     "output_type": "stream",
     "text": [
      "                                                                             precision    recall  f1-score   support\n",
      "\n",
      "                                                                 Biological       0.00      0.00      0.00         6\n",
      "                                                                   Chemical       0.25      0.03      0.06        59\n",
      "                                                                 Explosives       0.64      0.87      0.74     17091\n",
      "                                                               Fake Weapons       0.00      0.00      0.00         3\n",
      "                                                                   Firearms       0.63      0.58      0.60     10493\n",
      "                                                                 Incendiary       0.00      0.00      0.00      2053\n",
      "                                                                      Melee       0.00      0.00      0.00       691\n",
      "                                                                      Other       0.00      0.00      0.00        19\n",
      "                                                               Radiological       0.00      0.00      0.00         4\n",
      "                                                         Sabotage Equipment       0.00      0.00      0.00        26\n",
      "                                                                    Unknown       0.22      0.01      0.01      2491\n",
      "Vehicle (not to include vehicle-borne explosives, i.e., car or truck bombs)       0.00      0.00      0.00        28\n",
      "\n",
      "                                                                   accuracy                           0.64     32964\n",
      "                                                                  macro avg       0.14      0.12      0.12     32964\n",
      "                                                               weighted avg       0.55      0.64      0.58     32964\n",
      "\n"
     ]
    }
   ],
   "source": [
    "from sklearn.metrics import classification_report, confusion_matrix\n",
    "print(confusion_matrix(y_test, y_pred))\n",
    "print(classification_report(y_test, y_pred))\n"
   ]
  },
  {
   "cell_type": "code",
   "execution_count": 34,
   "id": "12d63354",
   "metadata": {},
   "outputs": [
    {
     "data": {
      "text/plain": [
       "Text(0, 0.5, 'Mean Error')"
      ]
     },
     "execution_count": 34,
     "metadata": {},
     "output_type": "execute_result"
    },
    {
     "data": {
      "image/png": "[encoded data removed]",
      "text/plain": [
       "<Figure size 864x432 with 1 Axes>"
      ]
     },
     "metadata": {
      "needs_background": "light"
     },
     "output_type": "display_data"
    }
   ],
   "source": [
    "error = []\n",
    "# Calculating error for K values between 1 and 40\n",
    "for i in range(1, 40):\n",
    "    knn = KNeighborsClassifier(n_neighbors=i)\n",
    "    knn.fit(X_train, y_train)\n",
    "    pred_i = knn.predict(X_test)\n",
    "    error.append(np.mean(pred_i != y_test))\n",
    "plt.figure(figsize=(12, 6))\n",
    "plt.plot(range(1, 40), error, color='red', linestyle='dashed', marker='o',\n",
    "markerfacecolor='blue', markersize=10)\n",
    "plt.title('Error Rate K Value')\n",
    "plt.xlabel('K Value')\n",
    "plt.ylabel('Mean Error')"
   ]
  },
  {
   "cell_type": "markdown",
   "id": "df317feb",
   "metadata": {},
   "source": [
    "### For MLP propagation"
   ]
  },
  {
   "cell_type": "code",
   "execution_count": 20,
   "id": "a2a486b1",
   "metadata": {},
   "outputs": [
    {
     "data": {
      "text/html": [
       "<div>\n",
       "<style scoped>\n",
       "    .dataframe tbody tr th:only-of-type {\n",
       "        vertical-align: middle;\n",
       "    }\n",
       "\n",
       "    .dataframe tbody tr th {\n",
       "        vertical-align: top;\n",
       "    }\n",
       "\n",
       "    .dataframe thead th {\n",
       "        text-align: right;\n",
       "    }\n",
       "</style>\n",
       "<table border=\"1\" class=\"dataframe\">\n",
       "  <thead>\n",
       "    <tr style=\"text-align: right;\">\n",
       "      <th></th>\n",
       "      <th>Weapon_type</th>\n",
       "    </tr>\n",
       "  </thead>\n",
       "  <tbody>\n",
       "    <tr>\n",
       "      <th>0</th>\n",
       "      <td>Unknown</td>\n",
       "    </tr>\n",
       "    <tr>\n",
       "      <th>1</th>\n",
       "      <td>Unknown</td>\n",
       "    </tr>\n",
       "    <tr>\n",
       "      <th>2</th>\n",
       "      <td>Unknown</td>\n",
       "    </tr>\n",
       "    <tr>\n",
       "      <th>5</th>\n",
       "      <td>Firearms</td>\n",
       "    </tr>\n",
       "    <tr>\n",
       "      <th>6</th>\n",
       "      <td>Firearms</td>\n",
       "    </tr>\n",
       "    <tr>\n",
       "      <th>...</th>\n",
       "      <td>...</td>\n",
       "    </tr>\n",
       "    <tr>\n",
       "      <th>181686</th>\n",
       "      <td>Firearms</td>\n",
       "    </tr>\n",
       "    <tr>\n",
       "      <th>181687</th>\n",
       "      <td>Explosives</td>\n",
       "    </tr>\n",
       "    <tr>\n",
       "      <th>181688</th>\n",
       "      <td>Incendiary</td>\n",
       "    </tr>\n",
       "    <tr>\n",
       "      <th>181689</th>\n",
       "      <td>Explosives</td>\n",
       "    </tr>\n",
       "    <tr>\n",
       "      <th>181690</th>\n",
       "      <td>Explosives</td>\n",
       "    </tr>\n",
       "  </tbody>\n",
       "</table>\n",
       "<p>164817 rows × 1 columns</p>\n",
       "</div>"
      ],
      "text/plain": [
       "       Weapon_type\n",
       "0          Unknown\n",
       "1          Unknown\n",
       "2          Unknown\n",
       "5         Firearms\n",
       "6         Firearms\n",
       "...            ...\n",
       "181686    Firearms\n",
       "181687  Explosives\n",
       "181688  Incendiary\n",
       "181689  Explosives\n",
       "181690  Explosives\n",
       "\n",
       "[164817 rows x 1 columns]"
      ]
     },
     "execution_count": 20,
     "metadata": {},
     "output_type": "execute_result"
    }
   ],
   "source": [
    "df3=df[['Killed','Wounded','Casualities','Weapon_type']]\n",
    "X = df3.iloc[:, 0:3].values\n",
    "y = df3.select_dtypes(include=[object])\n",
    "y"
   ]
  },
  {
   "cell_type": "code",
   "execution_count": 22,
   "id": "c48e5630",
   "metadata": {},
   "outputs": [
    {
     "data": {
      "text/plain": [
       "array(['Unknown', 'Firearms', 'Explosives', 'Incendiary', 'Chemical',\n",
       "       'Melee', 'Sabotage Equipment',\n",
       "       'Vehicle (not to include vehicle-borne explosives, i.e., car or truck bombs)',\n",
       "       'Fake Weapons', 'Radiological', 'Other', 'Biological'],\n",
       "      dtype=object)"
      ]
     },
     "execution_count": 22,
     "metadata": {},
     "output_type": "execute_result"
    }
   ],
   "source": [
    "y.head()\n",
    "y.Weapon_type.unique()"
   ]
  },
  {
   "cell_type": "code",
   "execution_count": 23,
   "id": "b38f160f",
   "metadata": {},
   "outputs": [],
   "source": [
    "from sklearn import preprocessing\n",
    "le = preprocessing.LabelEncoder()\n",
    "y=y.apply(le.fit_transform)"
   ]
  },
  {
   "cell_type": "code",
   "execution_count": 24,
   "id": "05132812",
   "metadata": {},
   "outputs": [],
   "source": [
    "from sklearn.model_selection import train_test_split\n",
    "X_train, X_test, y_train, y_test = train_test_split(X, y)\n"
   ]
  },
  {
   "cell_type": "code",
   "execution_count": 25,
   "id": "621cfe32",
   "metadata": {},
   "outputs": [],
   "source": [
    "from sklearn.preprocessing import StandardScaler\n",
    "scaler = StandardScaler()\n",
    "scaler.fit(X_train)\n",
    "X_train = scaler.transform(X_train)\n",
    "X_test = scaler.transform(X_test)\n"
   ]
  },
  {
   "cell_type": "code",
   "execution_count": 26,
   "id": "b2eb6a3f",
   "metadata": {},
   "outputs": [],
   "source": [
    "from sklearn.neural_network import MLPClassifier\n",
    "mlp = MLPClassifier(hidden_layer_sizes=(10,10,10),max_iter=1000)\n",
    "mlp.fit(X_train, y_train.values.ravel())\n",
    "predictions = mlp.predict(X_test)\n"
   ]
  },
  {
   "cell_type": "code",
   "execution_count": 27,
   "id": "32cab469",
   "metadata": {},
   "outputs": [
    {
     "name": "stdout",
     "output_type": "stream",
     "text": [
      "0.642866388376533\n",
      "0.6441451280184444\n"
     ]
    }
   ],
   "source": [
    "from sklearn.metrics import accuracy_score\n",
    "predictions_train = mlp.predict(X_train)\n",
    "print(accuracy_score(predictions_train, y_train))\n",
    "predictions_test = mlp.predict(X_test)\n",
    "print(accuracy_score(predictions_test, y_test))\n"
   ]
  },
  {
   "cell_type": "code",
   "execution_count": 28,
   "id": "1fcfc5d0",
   "metadata": {},
   "outputs": [
    {
     "name": "stdout",
     "output_type": "stream",
     "text": [
      "[[    0     0     7     0     1     0     0     0     0     0     0     0]\n",
      " [    0     0    70     0     7     0     0     0     0     0     0     0]\n",
      " [    0     0 18679     0  2928     0     0     0     0     0     0     0]\n",
      " [    0     0     9     0     1     0     0     0     0     0     0     0]\n",
      " [    0     2  5116     0  7863     0     0     0     0     0     0     0]\n",
      " [    0     0  2482     0   102     0     0     0     0     0     0     0]\n",
      " [    0     0   389     0   472     0     0     0     0     0     0     0]\n",
      " [    0     0    19     0     6     0     0     0     0     0     0     0]\n",
      " [    0     0     6     0     0     0     0     0     0     0     0     0]\n",
      " [    0     0    35     0     1     0     0     0     0     0     0     0]\n",
      " [    0     0  1758     0  1222     0     0     0     0     0     0     0]\n",
      " [    0     0    21     0     9     0     0     0     0     0     0     0]]\n",
      "              precision    recall  f1-score   support\n",
      "\n",
      "           0       0.00      0.00      0.00         8\n",
      "           1       0.00      0.00      0.00        77\n",
      "           2       0.65      0.86      0.74     21607\n",
      "           3       0.00      0.00      0.00        10\n",
      "           4       0.62      0.61      0.61     12981\n",
      "           5       0.00      0.00      0.00      2584\n",
      "           6       0.00      0.00      0.00       861\n",
      "           7       0.00      0.00      0.00        25\n",
      "           8       0.00      0.00      0.00         6\n",
      "           9       0.00      0.00      0.00        36\n",
      "          10       0.00      0.00      0.00      2980\n",
      "          11       0.00      0.00      0.00        30\n",
      "\n",
      "    accuracy                           0.64     41205\n",
      "   macro avg       0.11      0.12      0.11     41205\n",
      "weighted avg       0.54      0.64      0.58     41205\n",
      "\n"
     ]
    },
    {
     "name": "stderr",
     "output_type": "stream",
     "text": [
      "C:\\ProgramData\\Anaconda3\\lib\\site-packages\\sklearn\\metrics\\_classification.py:1245: UndefinedMetricWarning: Precision and F-score are ill-defined and being set to 0.0 in labels with no predicted samples. Use `zero_division` parameter to control this behavior.\n",
      "  _warn_prf(average, modifier, msg_start, len(result))\n",
      "C:\\ProgramData\\Anaconda3\\lib\\site-packages\\sklearn\\metrics\\_classification.py:1245: UndefinedMetricWarning: Precision and F-score are ill-defined and being set to 0.0 in labels with no predicted samples. Use `zero_division` parameter to control this behavior.\n",
      "  _warn_prf(average, modifier, msg_start, len(result))\n",
      "C:\\ProgramData\\Anaconda3\\lib\\site-packages\\sklearn\\metrics\\_classification.py:1245: UndefinedMetricWarning: Precision and F-score are ill-defined and being set to 0.0 in labels with no predicted samples. Use `zero_division` parameter to control this behavior.\n",
      "  _warn_prf(average, modifier, msg_start, len(result))\n"
     ]
    }
   ],
   "source": [
    "from sklearn.metrics import classification_report, confusion_matrix\n",
    "print(confusion_matrix(y_test, predictions))\n",
    "print(classification_report(y_test, predictions))\n"
   ]
  },
  {
   "cell_type": "code",
   "execution_count": null,
   "id": "20f830c5",
   "metadata": {},
   "outputs": [],
   "source": []
  }
 ],
 "metadata": {
  "kernelspec": {
   "display_name": "Python 3",
   "language": "python",
   "name": "python3"
  },
  "language_info": {
   "codemirror_mode": {
    "name": "ipython",
    "version": 3
   },
   "file_extension": ".py",
   "mimetype": "text/x-python",
   "name": "python",
   "nbconvert_exporter": "python",
   "pygments_lexer": "ipython3",
   "version": "3.8.8"
  }
 },
 "nbformat": 4,
 "nbformat_minor": 5
}
